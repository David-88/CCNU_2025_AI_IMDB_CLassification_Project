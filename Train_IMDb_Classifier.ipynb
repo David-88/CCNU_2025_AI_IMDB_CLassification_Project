{
 "cells": [
  {
   "cell_type": "code",
   "execution_count": null,
   "id": "0a8788e6-8cdb-4d70-98d0-7383c91aa017",
   "metadata": {},
   "outputs": [],
   "source": [
    "# Train IMDb Classifier\n",
    "# 还没进行 ， 我们小组决定再微调训练一个专门用于IMDB情感分类的分类器\n",
    "# 就选最轻量级的Distilbert\n",
    "# 快疯了，实在不行 ,换镜像\n",
    "import os\n",
    "os.environ['HF_ENDPOINT'] = 'https://hf-mirror.com'"
   ]
  },
  {
   "cell_type": "code",
   "execution_count": null,
   "id": "a69982dd-4a7d-45e6-91cc-6264bf191a93",
   "metadata": {},
   "outputs": [],
   "source": [
    "# Load IMDb dataset\n",
    "from datasets import load_dataset, load_metric\n",
    "ds = load_dataset(\"imdb\")\n",
    "ds"
   ]
  },
  {
   "cell_type": "code",
   "execution_count": null,
   "id": "0be96b83-19fb-4fb3-a8bd-6589d38d82cf",
   "metadata": {},
   "outputs": [],
   "source": [
    "ds['train'].features"
   ]
  },
  {
   "cell_type": "code",
   "execution_count": null,
   "id": "b845dc50-c8dc-4b1a-9b0a-2992b3463cd0",
   "metadata": {},
   "outputs": [],
   "source": [
    "# Load Pretrained DistilBERT\n",
    "from transformers import AutoModelForSequenceClassification, AutoTokenizer\n",
    "\n",
    "model_name = \"distilbert-base-uncased\"\n",
    "model = AutoModelForSequenceClassification.from_pretrained(model_name)\n",
    "tokenizer = AutoTokenizer.from_pretrained(model_name)"
   ]
  },
  {
   "cell_type": "code",
   "execution_count": null,
   "id": "a3cce9cd-cdd2-40a7-9d3f-dc89428c035d",
   "metadata": {},
   "outputs": [],
   "source": [
    "# Prepocess Data\n",
    "def tokenize(examples):\n",
    "    outputs = tokenizer(examples['text'], truncation=True)\n",
    "    return outputs\n",
    "\n",
    "tokenized_ds = ds.map(tokenize, batched=True)"
   ]
  },
  {
   "cell_type": "code",
   "execution_count": null,
   "id": "0d1182f0-8d2f-4543-9cbe-bc9d38ff7876",
   "metadata": {},
   "outputs": [],
   "source": [
    "# Prepare Trainer"
   ]
  },
  {
   "cell_type": "code",
   "execution_count": null,
   "id": "64c2f7ad-a7c2-4515-a3c6-7050fe3c5b85",
   "metadata": {},
   "outputs": [],
   "source": [
    "from transformers import TrainingArguments, Trainer, DataCollatorWithPadding"
   ]
  },
  {
   "cell_type": "code",
   "execution_count": null,
   "id": "b6a00b2f-7220-4ca1-a50b-7e877d3cf5f2",
   "metadata": {},
   "outputs": [],
   "source": [
    "import numpy as np\n",
    "\n",
    "def compute_metrics(eval_preds):\n",
    "    metric = load_metric(\"accuracy\")\n",
    "    logits, labels = eval_preds\n",
    "    predictions = np.argmax(logits, axis=-1)\n",
    "    return metric.compute(predictions=predictions, references=labels)"
   ]
  },
  {
   "cell_type": "code",
   "execution_count": null,
   "id": "24625104-0c3a-44c5-8451-1f73c80dae0f",
   "metadata": {},
   "outputs": [],
   "source": [
    "training_args = TrainingArguments(num_train_epochs=1,\n",
    "                                  output_dir=\"distilbert-imdb\",\n",
    "                                  push_to_hub=True,\n",
    "                                  per_device_train_batch_size=16,\n",
    "                                  per_device_eval_batch_size=16,\n",
    "                                  evaluation_strategy=\"epoch\")"
   ]
  },
  {
   "cell_type": "code",
   "execution_count": null,
   "id": "5dc58c7a-7232-48a8-949f-6b9bf893d224",
   "metadata": {},
   "outputs": [],
   "source": [
    "data_collator = DataCollatorWithPadding(tokenizer)"
   ]
  },
  {
   "cell_type": "code",
   "execution_count": null,
   "id": "f6fbdb5d-5c5b-4611-8495-ae5c0c92f35a",
   "metadata": {},
   "outputs": [],
   "source": [
    "trainer = Trainer(model=model, tokenizer=tokenizer,\n",
    "                  data_collator=data_collator,\n",
    "                  args=training_args,\n",
    "                  train_dataset=tokenized_ds[\"train\"],\n",
    "                  eval_dataset=tokenized_ds[\"test\"], \n",
    "                  compute_metrics=compute_metrics)"
   ]
  },
  {
   "cell_type": "code",
   "execution_count": null,
   "id": "7e88a3cf-f39e-4feb-901e-b6cd7a663f33",
   "metadata": {},
   "outputs": [],
   "source": [
    "# Train Model and Push to Hub"
   ]
  },
  {
   "cell_type": "code",
   "execution_count": null,
   "id": "88b3573e-c3c1-46d0-844d-929104f42758",
   "metadata": {},
   "outputs": [],
   "source": [
    "trainer.train()"
   ]
  },
  {
   "cell_type": "code",
   "execution_count": null,
   "id": "67dfc63b-059c-4ea9-9da5-d1ddaecfb6ca",
   "metadata": {},
   "outputs": [],
   "source": [
    "trainer.push_to_hub()"
   ]
  }
 ],
 "metadata": {
  "kernelspec": {
   "display_name": "Python 3 (ipykernel)",
   "language": "python",
   "name": "python3"
  },
  "language_info": {
   "codemirror_mode": {
    "name": "ipython",
    "version": 3
   },
   "file_extension": ".py",
   "mimetype": "text/x-python",
   "name": "python",
   "nbconvert_exporter": "python",
   "pygments_lexer": "ipython3",
   "version": "3.10.0"
  }
 },
 "nbformat": 4,
 "nbformat_minor": 5
}
